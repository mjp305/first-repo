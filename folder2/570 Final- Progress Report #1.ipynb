{
 "cells": [
  {
   "cell_type": "markdown",
   "metadata": {},
   "source": [
    "### 570 Final- Progress Report #1"
   ]
  },
  {
   "cell_type": "code",
   "execution_count": 1,
   "metadata": {},
   "outputs": [],
   "source": [
    "import pandas as pd"
   ]
  },
  {
   "cell_type": "code",
   "execution_count": 2,
   "metadata": {},
   "outputs": [],
   "source": [
    "# Step 1: Import data\n",
    "file_path = 'C:/Users/maver/Downloads/Hospital_General_Information.csv'\n",
    "df = pd.read_csv(file_path)"
   ]
  },
  {
   "cell_type": "code",
   "execution_count": 3,
   "metadata": {},
   "outputs": [
    {
     "name": "stdout",
     "output_type": "stream",
     "text": [
      "Missing values before cleaning:\n",
      "index                                                               0\n",
      "Provider ID                                                         0\n",
      "Hospital Name                                                       0\n",
      "Address                                                             0\n",
      "City                                                                0\n",
      "State                                                               0\n",
      "ZIP Code                                                            0\n",
      "County Name                                                        15\n",
      "Phone Number                                                        0\n",
      "Hospital Type                                                       0\n",
      "Hospital Ownership                                                  0\n",
      "Emergency Services                                                  0\n",
      "Meets criteria for meaningful use of EHRs                        4818\n",
      "Hospital overall rating                                          1170\n",
      "Hospital overall rating footnote                                 3476\n",
      "Mortality national comparison                                       0\n",
      "Mortality national comparison footnote                           3481\n",
      "Safety of care national comparison                                  0\n",
      "Safety of care national comparison footnote                      2926\n",
      "Readmission national comparison                                     0\n",
      "Readmission national comparison footnote                         3816\n",
      "Patient experience national comparison                              0\n",
      "Patient experience national comparison footnote                  3463\n",
      "Effectiveness of care national comparison                           0\n",
      "Effectiveness of care national comparison footnote               3702\n",
      "Timeliness of care national comparison                              0\n",
      "Timeliness of care national comparison footnote                  3487\n",
      "Efficient use of medical imaging national comparison                0\n",
      "Efficient use of medical imaging national comparison footnote    2792\n",
      "Location                                                            0\n",
      "dtype: int64\n"
     ]
    }
   ],
   "source": [
    "# Step 2: Preprocessing the data\n",
    "\n",
    "# Check for missing values\n",
    "print(\"Missing values before cleaning:\")\n",
    "print(df.isnull().sum())"
   ]
  },
  {
   "cell_type": "code",
   "execution_count": 4,
   "metadata": {},
   "outputs": [],
   "source": [
    "# Step 2: Define key columns that must not have missing values\n",
    "required_columns = ['Hospital Name', 'Address', 'City', 'State', 'ZIP Code', 'Hospital overall rating']"
   ]
  },
  {
   "cell_type": "code",
   "execution_count": 5,
   "metadata": {},
   "outputs": [],
   "source": [
    "# Step 3: Drop rows where any of the required columns are missing\n",
    "df_cleaned = df.dropna(subset=required_columns)"
   ]
  },
  {
   "cell_type": "code",
   "execution_count": 6,
   "metadata": {},
   "outputs": [],
   "source": [
    "# Optional: Remove duplicates if needed\n",
    "df_cleaned = df_cleaned.drop_duplicates()"
   ]
  },
  {
   "cell_type": "code",
   "execution_count": 7,
   "metadata": {},
   "outputs": [
    {
     "name": "stdout",
     "output_type": "stream",
     "text": [
      "\n",
      "Cleaned Data Info:\n",
      "<class 'pandas.core.frame.DataFrame'>\n",
      "Int64Index: 3648 entries, 0 to 4817\n",
      "Data columns (total 30 columns):\n",
      " #   Column                                                         Non-Null Count  Dtype  \n",
      "---  ------                                                         --------------  -----  \n",
      " 0   index                                                          3648 non-null   int64  \n",
      " 1   Provider ID                                                    3648 non-null   int64  \n",
      " 2   Hospital Name                                                  3648 non-null   object \n",
      " 3   Address                                                        3648 non-null   object \n",
      " 4   City                                                           3648 non-null   object \n",
      " 5   State                                                          3648 non-null   object \n",
      " 6   ZIP Code                                                       3648 non-null   int64  \n",
      " 7   County Name                                                    3644 non-null   object \n",
      " 8   Phone Number                                                   3648 non-null   int64  \n",
      " 9   Hospital Type                                                  3648 non-null   object \n",
      " 10  Hospital Ownership                                             3648 non-null   object \n",
      " 11  Emergency Services                                             3648 non-null   bool   \n",
      " 12  Meets criteria for meaningful use of EHRs                      0 non-null      float64\n",
      " 13  Hospital overall rating                                        3648 non-null   float64\n",
      " 14  Hospital overall rating footnote                               172 non-null    object \n",
      " 15  Mortality national comparison                                  3648 non-null   object \n",
      " 16  Mortality national comparison footnote                         285 non-null    object \n",
      " 17  Safety of care national comparison                             3648 non-null   object \n",
      " 18  Safety of care national comparison footnote                    743 non-null    object \n",
      " 19  Readmission national comparison                                3648 non-null   object \n",
      " 20  Readmission national comparison footnote                       124 non-null    object \n",
      " 21  Patient experience national comparison                         3648 non-null   object \n",
      " 22  Patient experience national comparison footnote                273 non-null    object \n",
      " 23  Effectiveness of care national comparison                      3648 non-null   object \n",
      " 24  Effectiveness of care national comparison footnote             205 non-null    object \n",
      " 25  Timeliness of care national comparison                         3648 non-null   object \n",
      " 26  Timeliness of care national comparison footnote                355 non-null    object \n",
      " 27  Efficient use of medical imaging national comparison           3648 non-null   object \n",
      " 28  Efficient use of medical imaging national comparison footnote  894 non-null    object \n",
      " 29  Location                                                       3648 non-null   object \n",
      "dtypes: bool(1), float64(2), int64(4), object(23)\n",
      "memory usage: 858.6+ KB\n",
      "None\n"
     ]
    }
   ],
   "source": [
    "# Display basic info about the cleaned data\n",
    "print(\"\\nCleaned Data Info:\")\n",
    "print(df_cleaned.info())"
   ]
  },
  {
   "cell_type": "code",
   "execution_count": 8,
   "metadata": {},
   "outputs": [],
   "source": [
    "# Drop all columns with 'footnote' in the column name because footnotes are text and not helpful for visualization.\n",
    "df_cleaned = df_cleaned.loc[:, ~df.columns.str.contains('footnote', case=False)]"
   ]
  },
  {
   "cell_type": "code",
   "execution_count": 9,
   "metadata": {},
   "outputs": [
    {
     "name": "stdout",
     "output_type": "stream",
     "text": [
      "\n",
      "Preview of Cleaned Data:\n",
      "   index  Provider ID                       Hospital Name  \\\n",
      "0      0        10005       MARSHALL MEDICAL CENTER SOUTH   \n",
      "1      1        10032                    WEDOWEE HOSPITAL   \n",
      "2      2        10131            CRESTWOOD MEDICAL CENTER   \n",
      "3      3        20001    PROVIDENCE ALASKA MEDICAL CENTER   \n",
      "4      4        20018  YUKON KUSKOKWIM DELTA REG HOSPITAL   \n",
      "\n",
      "                      Address        City State  ZIP Code County Name  \\\n",
      "0  2505 U S HIGHWAY 431 NORTH        BOAZ    AL     35957    MARSHALL   \n",
      "1       209 NORTH MAIN STREET     WEDOWEE    AL     36278    RANDOLPH   \n",
      "2          ONE HOSPITAL DR SE  HUNTSVILLE    AL     35801     MADISON   \n",
      "3                  BOX 196604   ANCHORAGE    AK     99508   ANCHORAGE   \n",
      "4                  PO BOX 287      BETHEL    AK     99559      BETHEL   \n",
      "\n",
      "   Phone Number         Hospital Type  ...  \\\n",
      "0    2565938310  Acute Care Hospitals  ...   \n",
      "1    2563572111  Acute Care Hospitals  ...   \n",
      "2    2568823100  Acute Care Hospitals  ...   \n",
      "3    9072123675  Acute Care Hospitals  ...   \n",
      "4    9075436300  Acute Care Hospitals  ...   \n",
      "\n",
      "  Meets criteria for meaningful use of EHRs  Hospital overall rating  \\\n",
      "0                                       NaN                      3.0   \n",
      "1                                       NaN                      4.0   \n",
      "2                                       NaN                      3.0   \n",
      "3                                       NaN                      3.0   \n",
      "4                                       NaN                      3.0   \n",
      "\n",
      "   Mortality national comparison  Safety of care national comparison  \\\n",
      "0     Below the National average        Same as the National average   \n",
      "1   Same as the National average                       Not Available   \n",
      "2     Below the National average          Above the National average   \n",
      "3   Same as the National average          Below the National average   \n",
      "4   Same as the National average                       Not Available   \n",
      "\n",
      "  Readmission national comparison Patient experience national comparison  \\\n",
      "0      Above the National average           Same as the National average   \n",
      "1    Same as the National average                          Not Available   \n",
      "2    Same as the National average           Same as the National average   \n",
      "3      Above the National average             Below the National average   \n",
      "4    Same as the National average             Below the National average   \n",
      "\n",
      "  Effectiveness of care national comparison  \\\n",
      "0              Same as the National average   \n",
      "1              Same as the National average   \n",
      "2              Same as the National average   \n",
      "3                Below the National average   \n",
      "4                Below the National average   \n",
      "\n",
      "  Timeliness of care national comparison  \\\n",
      "0             Above the National average   \n",
      "1           Same as the National average   \n",
      "2           Same as the National average   \n",
      "3             Below the National average   \n",
      "4                          Not Available   \n",
      "\n",
      "  Efficient use of medical imaging national comparison  \\\n",
      "0                         Below the National average     \n",
      "1                                      Not Available     \n",
      "2                       Same as the National average     \n",
      "3                       Same as the National average     \n",
      "4                                      Not Available     \n",
      "\n",
      "                                       Location  \n",
      "0  2505 U S HIGHWAY 431 NORTH\\nBOAZ, AL 35957\\n  \n",
      "1    209 NORTH MAIN STREET\\nWEDOWEE, AL 36278\\n  \n",
      "2    ONE HOSPITAL DR SE\\nHUNTSVILLE, AL 35801\\n  \n",
      "3             BOX 196604\\nANCHORAGE, AK 99508\\n  \n",
      "4                PO BOX 287\\nBETHEL, AK 99559\\n  \n",
      "\n",
      "[5 rows x 22 columns]\n"
     ]
    }
   ],
   "source": [
    "# Display first few rows to verify\n",
    "print(\"\\nPreview of Cleaned Data:\")\n",
    "print(df_cleaned.head())"
   ]
  },
  {
   "cell_type": "code",
   "execution_count": 10,
   "metadata": {},
   "outputs": [
    {
     "name": "stdout",
     "output_type": "stream",
     "text": [
      "\n",
      "Cleaned Data Info:\n",
      "<class 'pandas.core.frame.DataFrame'>\n",
      "Int64Index: 3648 entries, 0 to 4817\n",
      "Data columns (total 22 columns):\n",
      " #   Column                                                Non-Null Count  Dtype  \n",
      "---  ------                                                --------------  -----  \n",
      " 0   index                                                 3648 non-null   int64  \n",
      " 1   Provider ID                                           3648 non-null   int64  \n",
      " 2   Hospital Name                                         3648 non-null   object \n",
      " 3   Address                                               3648 non-null   object \n",
      " 4   City                                                  3648 non-null   object \n",
      " 5   State                                                 3648 non-null   object \n",
      " 6   ZIP Code                                              3648 non-null   int64  \n",
      " 7   County Name                                           3644 non-null   object \n",
      " 8   Phone Number                                          3648 non-null   int64  \n",
      " 9   Hospital Type                                         3648 non-null   object \n",
      " 10  Hospital Ownership                                    3648 non-null   object \n",
      " 11  Emergency Services                                    3648 non-null   bool   \n",
      " 12  Meets criteria for meaningful use of EHRs             0 non-null      float64\n",
      " 13  Hospital overall rating                               3648 non-null   float64\n",
      " 14  Mortality national comparison                         3648 non-null   object \n",
      " 15  Safety of care national comparison                    3648 non-null   object \n",
      " 16  Readmission national comparison                       3648 non-null   object \n",
      " 17  Patient experience national comparison                3648 non-null   object \n",
      " 18  Effectiveness of care national comparison             3648 non-null   object \n",
      " 19  Timeliness of care national comparison                3648 non-null   object \n",
      " 20  Efficient use of medical imaging national comparison  3648 non-null   object \n",
      " 21  Location                                              3648 non-null   object \n",
      "dtypes: bool(1), float64(2), int64(4), object(15)\n",
      "memory usage: 630.6+ KB\n",
      "None\n"
     ]
    }
   ],
   "source": [
    "print(\"\\nCleaned Data Info:\")\n",
    "print(df_cleaned.info())"
   ]
  },
  {
   "cell_type": "code",
   "execution_count": 12,
   "metadata": {},
   "outputs": [
    {
     "name": "stdout",
     "output_type": "stream",
     "text": [
      "Cleaned dataset exported to: C:/Users/maver/Downloads/Hospital_General_Information_Clean_570 FINAL.csv\n"
     ]
    }
   ],
   "source": [
    "# Export the cleaned dataset to a new CSV file\n",
    "output_path = 'C:/Users/maver/Downloads/Hospital_General_Information_Clean_570 FINAL.csv'\n",
    "df_cleaned.to_csv(output_path, index=False)\n",
    "\n",
    "print(f\"Cleaned dataset exported to: {output_path}\")"
   ]
  }
 ],
 "metadata": {
  "kernelspec": {
   "display_name": "Python 3",
   "language": "python",
   "name": "python3"
  },
  "language_info": {
   "codemirror_mode": {
    "name": "ipython",
    "version": 3
   },
   "file_extension": ".py",
   "mimetype": "text/x-python",
   "name": "python",
   "nbconvert_exporter": "python",
   "pygments_lexer": "ipython3",
   "version": "3.7.4"
  },
  "varInspector": {
   "cols": {
    "lenName": 16,
    "lenType": 16,
    "lenVar": 40
   },
   "kernels_config": {
    "python": {
     "delete_cmd_postfix": "",
     "delete_cmd_prefix": "del ",
     "library": "var_list.py",
     "varRefreshCmd": "print(var_dic_list())"
    },
    "r": {
     "delete_cmd_postfix": ") ",
     "delete_cmd_prefix": "rm(",
     "library": "var_list.r",
     "varRefreshCmd": "cat(var_dic_list()) "
    }
   },
   "types_to_exclude": [
    "module",
    "function",
    "builtin_function_or_method",
    "instance",
    "_Feature"
   ],
   "window_display": false
  }
 },
 "nbformat": 4,
 "nbformat_minor": 2
}
